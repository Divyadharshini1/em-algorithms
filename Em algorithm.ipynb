{
 "cells": [
  {
   "cell_type": "code",
   "execution_count": 3,
   "id": "03234774",
   "metadata": {},
   "outputs": [
    {
     "name": "stdout",
     "output_type": "stream",
     "text": [
      "Means: [[6.5        8.        ]\n",
      " [1.16666667 1.13333333]]\n",
      "Covariances: [[[2.25000100e+00 6.31088724e-29]\n",
      "  [6.31088724e-29 1.00000000e-06]]\n",
      "\n",
      " [[5.55565556e-02 1.11111111e-01]\n",
      "  [1.11111111e-01 2.48889889e-01]]]\n",
      "Mixing probabilities: [0.4 0.6]\n",
      "Predicted labels for new data: [1 1]\n"
     ]
    }
   ],
   "source": [
    "import numpy as np\n",
    "from sklearn.mixture import GaussianMixture\n",
    "# Define data (replace with your actual data)\n",
    "X = np.array([[1, 1], [1.5, 1.8], [5, 8], [8, 8], [1, 0.6]])\n",
    "# Define the number of Gaussian components (clusters)\n",
    "n_components = 2\n",
    "# Create and fit the GMM model\n",
    "gmm = GaussianMixture(n_components=n_components)\n",
    "gmm.fit(X)\n",
    "# Print the fitted parameters\n",
    "print(\"Means:\", gmm.means_)\n",
    "print(\"Covariances:\", gmm.covariances_)\n",
    "print(\"Mixing probabilities:\", gmm.weights_)\n",
    "# Predict cluster labels for new data points (optional)\n",
    "new_data = np.array([[0.5, 0.8], [6, 9]])\n",
    "labels = gmm.predict(new_data)\n",
    "print(\"Predicted labels for new data:\", labels)"
   ]
  },
  {
   "cell_type": "code",
   "execution_count": 4,
   "id": "10504059",
   "metadata": {},
   "outputs": [],
   "source": [
    "import matplotlib.pyplot as plt"
   ]
  },
  {
   "cell_type": "code",
   "execution_count": 13,
   "id": "7dc5bca7",
   "metadata": {},
   "outputs": [
    {
     "data": {
      "text/plain": [
       "(array([[0.54054054, 0.27027027, 0.        , 0.        , 0.        ,\n",
       "         0.27027027, 0.        , 0.        , 0.        , 0.27027027],\n",
       "        [0.54054054, 0.27027027, 0.        , 0.        , 0.        ,\n",
       "         0.        , 0.        , 0.        , 0.        , 0.54054054]]),\n",
       " array([0.6 , 1.34, 2.08, 2.82, 3.56, 4.3 , 5.04, 5.78, 6.52, 7.26, 8.  ]),\n",
       " <a list of 2 BarContainer objects>)"
      ]
     },
     "execution_count": 13,
     "metadata": {},
     "output_type": "execute_result"
    },
    {
     "data": {
      "image/png": "[encoded data removed]",
      "text/plain": [
       "<Figure size 432x288 with 1 Axes>"
      ]
     },
     "metadata": {
      "needs_background": "light"
     },
     "output_type": "display_data"
    }
   ],
   "source": [
    "plt.hist(X,density=True)"
   ]
  }
 ],
 "metadata": {
  "kernelspec": {
   "display_name": "Python 3 (ipykernel)",
   "language": "python",
   "name": "python3"
  },
  "language_info": {
   "codemirror_mode": {
    "name": "ipython",
    "version": 3
   },
   "file_extension": ".py",
   "mimetype": "text/x-python",
   "name": "python",
   "nbconvert_exporter": "python",
   "pygments_lexer": "ipython3",
   "version": "3.9.12"
  }
 },
 "nbformat": 4,
 "nbformat_minor": 5
}
